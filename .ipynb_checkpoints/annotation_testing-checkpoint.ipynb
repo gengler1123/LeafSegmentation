{
 "cells": [
  {
   "cell_type": "code",
   "execution_count": 40,
   "metadata": {},
   "outputs": [],
   "source": [
    "from os.path import join, isfile\n",
    "from os import listdir\n",
    "\n",
    "from xmljson import badgerfish as bf\n",
    "from xml.etree.ElementTree import fromstring\n",
    "from pprint import pprint\n",
    "from tqdm import tqdm\n",
    "\n",
    "import matplotlib.pyplot as plt\n",
    "import cv2\n",
    "import numpy as np\n",
    "import numpy as np              # (pip install numpy)\n",
    "from skimage import measure                        # (pip install scikit-image)\n",
    "from shapely.geometry import Polygon, MultiPolygon # (pip install Shapely)\n",
    "from uuid import uuid4"
   ]
  },
  {
   "cell_type": "code",
   "execution_count": 53,
   "metadata": {},
   "outputs": [],
   "source": [
    "base_path = \"data\""
   ]
  },
  {
   "cell_type": "code",
   "execution_count": 55,
   "metadata": {},
   "outputs": [
    {
     "name": "stdout",
     "output_type": "stream",
     "text": [
      "There are 91758 .xml files\n"
     ]
    }
   ],
   "source": [
    "XMLS = [\n",
    "    join(base_path, f) for f in listdir(base_path)\n",
    "    if f[-3:] == \"xml\"\n",
    "]\n",
    "IMGS = [\n",
    "    join(base_path, f) for f in listdir(base_path)\n",
    "    if f[-3:] != \"xml\"\n",
    "]\n",
    "\n",
    "print(f\"There are {len(XMLS)} .xml files\")"
   ]
  },
  {
   "cell_type": "code",
   "execution_count": 4,
   "metadata": {},
   "outputs": [
    {
     "name": "stdout",
     "output_type": "stream",
     "text": [
      "<?xml version=\"1.0\" encoding=\"UTF-8\"?>\n",
      "<Image>\n",
      "  <ObservationId>15168</ObservationId>\n",
      "  <MediaId>102424</MediaId>\n",
      "  <Vote>4</Vote>\n",
      "  <Content>Flower</Content>\n",
      "  <ClassId>3384</ClassId>\n",
      "  <Family>Gentianaceae</Family>\n",
      "  <Genus>Gentianopsis</Genus>\n",
      "  <Species>Gentianopsis ciliata (L.) Ma</Species>\n",
      "  <Author>liliane roubaudi</Author>\n",
      "  <Date>2011-9-25</Date>\n",
      "  <Location>Le Mollard de Don</Location>\n",
      "  <Latitude />\n",
      "  <Longitude />\n",
      "  <YearInCLEF>ImageCLEF2013</YearInCLEF>\n",
      "  <ObservationId2014>11337</ObservationId2014>\n",
      "  <ImageId2014>41057</ImageId2014>\n",
      "  <LearnTag>Train</LearnTag>\n",
      "</Image>\n",
      "\n"
     ]
    }
   ],
   "source": [
    "with open(XMLS[0], 'r') as F:\n",
    "    print(F.read())"
   ]
  },
  {
   "cell_type": "code",
   "execution_count": 5,
   "metadata": {},
   "outputs": [],
   "source": [
    "with open(XMLS[0], 'r') as F:\n",
    "    X = bf.data(fromstring(F.read()))"
   ]
  },
  {
   "cell_type": "code",
   "execution_count": 6,
   "metadata": {},
   "outputs": [],
   "source": [
    "def to_dict(fpath):\n",
    "    with open(fpath, 'r') as F:\n",
    "        X = bf.data(fromstring(F.read()))\n",
    "    DATA = dict(X['Image'])\n",
    "    data = {}\n",
    "    for key in DATA:\n",
    "        if DATA[key].get(\"$\"):\n",
    "            data[key] = DATA[key]['$']\n",
    "    return data"
   ]
  },
  {
   "cell_type": "code",
   "execution_count": 7,
   "metadata": {},
   "outputs": [
    {
     "name": "stderr",
     "output_type": "stream",
     "text": [
      "100%|██████████| 91758/91758 [00:14<00:00, 6417.27it/s]\n"
     ]
    }
   ],
   "source": [
    "ImageData = []\n",
    "\n",
    "for xml in tqdm(XMLS):\n",
    "    ImageData.append(to_dict(xml))\n",
    "    \n"
   ]
  },
  {
   "cell_type": "code",
   "execution_count": 8,
   "metadata": {},
   "outputs": [
    {
     "name": "stdout",
     "output_type": "stream",
     "text": [
      "91758\n"
     ]
    }
   ],
   "source": [
    "ImageData = sorted(ImageData, key=lambda x:x.get(\"Content\"))\n",
    "print(len(ImageData))"
   ]
  },
  {
   "cell_type": "code",
   "execution_count": 9,
   "metadata": {},
   "outputs": [],
   "source": [
    "Content = {}\n",
    "for img in ImageData:\n",
    "    content = img['Content']\n",
    "    if content not in Content:\n",
    "        Content[content] = [img]\n",
    "    else:\n",
    "        Content[content].append(img)"
   ]
  },
  {
   "cell_type": "code",
   "execution_count": 10,
   "metadata": {},
   "outputs": [
    {
     "name": "stdout",
     "output_type": "stream",
     "text": [
      "dict_keys(['Branch', 'Entire', 'Flower', 'Fruit', 'Leaf', 'LeafScan', 'Stem'])\n"
     ]
    }
   ],
   "source": [
    "print(Content.keys())"
   ]
  },
  {
   "cell_type": "code",
   "execution_count": 11,
   "metadata": {},
   "outputs": [
    {
     "name": "stdout",
     "output_type": "stream",
     "text": [
      "12605\n"
     ]
    }
   ],
   "source": [
    "print(len(Content['LeafScan']))"
   ]
  },
  {
   "cell_type": "code",
   "execution_count": 12,
   "metadata": {},
   "outputs": [
    {
     "name": "stdout",
     "output_type": "stream",
     "text": [
      "{'ObservationId': 19664, 'MediaId': 67989, 'Vote': 3, 'Content': 'LeafScan', 'ClassId': 3279, 'Family': 'Fagaceae', 'Genus': 'Castanea', 'Species': 'Castanea sativa Mill.', 'Author': 'annick larbouillat', 'Date': '2011-10-16', 'Location': 'La Queue-en-Brie', 'Latitude': 48.75675, 'Longitude': 2.58162, 'YearInCLEF': 'ImageCLEF2012', 'ObservationId2014': 3823, 'ImageId2014': 51815, 'LearnTag': 'Train'}\n"
     ]
    }
   ],
   "source": [
    "LeafScan = Content['LeafScan']\n",
    "print(LeafScan[0])"
   ]
  },
  {
   "cell_type": "code",
   "execution_count": 13,
   "metadata": {},
   "outputs": [],
   "source": [
    "import matplotlib.pyplot as plt"
   ]
  },
  {
   "cell_type": "code",
   "execution_count": 14,
   "metadata": {},
   "outputs": [
    {
     "data": {
      "text/plain": [
       "<matplotlib.image.AxesImage at 0x7f6c5865d0f0>"
      ]
     },
     "execution_count": 14,
     "metadata": {},
     "output_type": "execute_result"
    },
    {
     "data": {
      "image/png": "[encoded data removed]",
      "text/plain": [
       "<Figure size 432x288 with 1 Axes>"
      ]
     },
     "metadata": {
      "needs_background": "light"
     },
     "output_type": "display_data"
    }
   ],
   "source": [
    "fpath = join(base_path, f\"{LeafScan[2]['MediaId']}.jpg\")\n",
    "\n",
    "img = cv2.imread(fpath)\n",
    "plt.imshow(img)"
   ]
  },
  {
   "cell_type": "code",
   "execution_count": 27,
   "metadata": {},
   "outputs": [
    {
     "data": {
      "image/png": "[encoded data removed]",
      "text/plain": [
       "<Figure size 432x288 with 1 Axes>"
      ]
     },
     "metadata": {
      "needs_background": "light"
     },
     "output_type": "display_data"
    }
   ],
   "source": [
    "\n",
    "def create_mask(img, show_plot:bool=False):\n",
    "    gray = cv2.cvtColor(img, cv2.COLOR_BGR2GRAY)\n",
    "    _, thresh = cv2.threshold(gray, 210, 255, cv2.THRESH_BINARY)\n",
    "    \n",
    "    if False:\n",
    "        thresh = cv2.adaptiveThreshold(\n",
    "            gray,\n",
    "            255,\n",
    "            cv2.ADAPTIVE_THRESH_GAUSSIAN_C,\n",
    "            cv2.THRESH_BINARY_INV,\n",
    "            11,\n",
    "            2\n",
    "        )\n",
    "\n",
    "    kernel = cv2.getStructuringElement(\n",
    "        cv2.MORPH_ELLIPSE,\n",
    "        (30,30)\n",
    "    )\n",
    "    res = cv2.morphologyEx(thresh,cv2.MORPH_OPEN,kernel)\n",
    "    if show_plot:\n",
    "        plt.imshow(res, 'gray')\n",
    "    return res\n",
    "\n",
    "fpath = join(base_path, f\"{LeafScan[2]['MediaId']}.jpg\")\n",
    "img = cv2.imread(fpath)\n",
    "mask = create_mask(img, True)"
   ]
  },
  {
   "cell_type": "code",
   "execution_count": 32,
   "metadata": {},
   "outputs": [],
   "source": [
    "fpath = join(base_path, f\"{LeafScan[2]['MediaId']}.jpg\")\n",
    "\n",
    "for leafscan in tqdm(LeafScan):\n",
    "    fpath = join(base_path, f\"{leafscan['MediaId']}.jpg\")\n",
    "    img = cv2.imread(fpath)\n",
    "    mask = create_mask(img)"
   ]
  },
  {
   "cell_type": "code",
   "execution_count": 37,
   "metadata": {},
   "outputs": [],
   "source": [
    "def create_sub_mask_annotation(sub_mask, \n",
    "                               image_id, \n",
    "                               category_id, \n",
    "                               annotation_id, \n",
    "                               is_crowd):\n",
    "    # Find contours (boundary lines) around each sub-mask\n",
    "    # Note: there could be multiple contours if the object\n",
    "    # is partially occluded. (E.g. an elephant behind a tree)\n",
    "    contours = measure.find_contours(sub_mask, 0.5, positive_orientation='low')\n",
    "\n",
    "    segmentations = []\n",
    "    polygons = []\n",
    "    for contour in contours:\n",
    "        # Flip from (row, col) representation to (x, y)\n",
    "        # and subtract the padding pixel\n",
    "        for i in range(len(contour)):\n",
    "            row, col = contour[i]\n",
    "            contour[i] = (col - 1, row - 1)\n",
    "\n",
    "        # Make a polygon and simplify it\n",
    "        poly = Polygon(contour)\n",
    "        poly = poly.simplify(1.0, preserve_topology=False)\n",
    "        polygons.append(poly)\n",
    "        segmentation = np.array(poly.exterior.coords).ravel().tolist()\n",
    "        segmentations.append(segmentation)\n",
    "\n",
    "    # Combine the polygons to calculate the bounding box and area\n",
    "    multi_poly = MultiPolygon(polygons)\n",
    "    x, y, max_x, max_y = multi_poly.bounds\n",
    "    width = max_x - x\n",
    "    height = max_y - y\n",
    "    bbox = (x, y, width, height)\n",
    "    area = multi_poly.area\n",
    "\n",
    "    annotation = {\n",
    "        'segmentation': segmentations,\n",
    "        'iscrowd': is_crowd,\n",
    "        'image_id': image_id,\n",
    "        'category_id': category_id,\n",
    "        'id': annotation_id,\n",
    "        'bbox': bbox,\n",
    "        'area': area\n",
    "    }\n",
    "\n",
    "    return annotation"
   ]
  },
  {
   "cell_type": "code",
   "execution_count": 49,
   "metadata": {},
   "outputs": [
    {
     "name": "stderr",
     "output_type": "stream",
     "text": [
      "100%|██████████| 12605/12605 [04:45<00:00, 44.11it/s]"
     ]
    },
    {
     "name": "stdout",
     "output_type": "stream",
     "text": [
      "There were 8358 Exceptions!\n"
     ]
    },
    {
     "name": "stderr",
     "output_type": "stream",
     "text": [
      "\n"
     ]
    }
   ],
   "source": [
    "Annotations = []\n",
    "exceptions = 0\n",
    "Exceptions = []\n",
    "\n",
    "for leafscan in tqdm(LeafScan):\n",
    "    fpath = join(base_path, f\"{leafscan['MediaId']}.jpg\")\n",
    "    img = cv2.imread(fpath)\n",
    "    mask = create_mask(img)\n",
    "    try:\n",
    "        annotation = create_sub_mask_annotation(\n",
    "            mask,\n",
    "            fpath,\n",
    "            1,\n",
    "            f\"{uuid4()}\",\n",
    "            False\n",
    "        )\n",
    "        Annotations.append(annotation)\n",
    "    except Exception as e:\n",
    "        Exceptions.append(fpath)\n",
    "        pass\n",
    "\n",
    "print(f\"There were {len(Exceptions)} Exceptions!\")"
   ]
  },
  {
   "cell_type": "code",
   "execution_count": 52,
   "metadata": {},
   "outputs": [],
   "source": [
    "import json\n",
    "write_path = \"annotations.json\"\n",
    "json.dump(Annotations, open(write_path, 'w'))"
   ]
  },
  {
   "cell_type": "code",
   "execution_count": 28,
   "metadata": {},
   "outputs": [
    {
     "name": "stdout",
     "output_type": "stream",
     "text": [
      "[[    89     71    424    725 132704]\n",
      " [     0      0    589    800 338496]]\n"
     ]
    },
    {
     "data": {
      "image/png": "[encoded data removed]",
      "text/plain": [
       "<Figure size 432x288 with 1 Axes>"
      ]
     },
     "metadata": {
      "needs_background": "light"
     },
     "output_type": "display_data"
    }
   ],
   "source": [
    "def undesired_objects (image):\n",
    "    # image = image.astype('uint8')\n",
    "    nb_components, output, stats, centroids = cv2.connectedComponentsWithStats(\n",
    "        image, \n",
    "        connectivity=8\n",
    "    )\n",
    "    sizes = stats[:, -1]\n",
    "    print(stats)\n",
    "\n",
    "    max_label = 1\n",
    "    max_size = sizes[1]\n",
    "    for i in range(2, nb_components):\n",
    "        if sizes[i] > max_size:\n",
    "            max_label = i\n",
    "            max_size = sizes[i]\n",
    "\n",
    "    img2 = np.zeros(output.shape)\n",
    "    img2[output == max_label] = 255\n",
    "    plt.imshow(img2, 'gray')\n",
    "    # cv2.imshow(\"Biggest component\", img2)\n",
    "    # cv2.waitKey(0)\n",
    "    \n",
    "undesired_objects(mask)"
   ]
  },
  {
   "cell_type": "code",
   "execution_count": 19,
   "metadata": {},
   "outputs": [
    {
     "ename": "NameError",
     "evalue": "name 'thresh' is not defined",
     "output_type": "error",
     "traceback": [
      "\u001b[0;31m---------------------------------------------------------------------------\u001b[0m",
      "\u001b[0;31mNameError\u001b[0m                                 Traceback (most recent call last)",
      "\u001b[0;32m<ipython-input-19-2dd2aef6c4be>\u001b[0m in \u001b[0;36m<module>\u001b[0;34m\u001b[0m\n\u001b[1;32m      1\u001b[0m contours, hierarchy = cv2.findContours(\n\u001b[0;32m----> 2\u001b[0;31m     \u001b[0mthresh\u001b[0m\u001b[0;34m,\u001b[0m\u001b[0;34m\u001b[0m\u001b[0;34m\u001b[0m\u001b[0m\n\u001b[0m\u001b[1;32m      3\u001b[0m     \u001b[0mcv2\u001b[0m\u001b[0;34m.\u001b[0m\u001b[0mRETR_EXTERNAL\u001b[0m\u001b[0;34m,\u001b[0m\u001b[0;34m\u001b[0m\u001b[0;34m\u001b[0m\u001b[0m\n\u001b[1;32m      4\u001b[0m     \u001b[0mcv2\u001b[0m\u001b[0;34m.\u001b[0m\u001b[0mCHAIN_APPROX_SIMPLE\u001b[0m\u001b[0;34m\u001b[0m\u001b[0;34m\u001b[0m\u001b[0m\n\u001b[1;32m      5\u001b[0m )\n",
      "\u001b[0;31mNameError\u001b[0m: name 'thresh' is not defined"
     ]
    }
   ],
   "source": [
    "contours, hierarchy = cv2.findContours(\n",
    "    thresh,\n",
    "    cv2.RETR_EXTERNAL,\n",
    "    cv2.CHAIN_APPROX_SIMPLE\n",
    ")\n",
    "print(len(contours))"
   ]
  },
  {
   "cell_type": "code",
   "execution_count": null,
   "metadata": {},
   "outputs": [],
   "source": [
    "copyImg = img.copy()\n",
    "\n",
    "\n",
    "if len(contours) != 0:\n",
    "    c = max(contours, key = lambda x: cv2.contourArea(x, False))\n",
    "\n",
    "\n",
    "drawImg = cv2.drawContours(copyImg, c, -1, (255,0,0),-1)\n",
    "polyImg = cv2.polylines(copyImg, c, True,(0,0,0),20)\n",
    "\n",
    "polyFill = cv2.fillPoly(copyImg, c, (0,255,255))\n",
    "\n",
    "\n",
    "plt.imshow(polyImg)\n",
    "plt.show()\n"
   ]
  },
  {
   "cell_type": "code",
   "execution_count": null,
   "metadata": {},
   "outputs": [],
   "source": [
    "gray = cv2.cvtColor(polyImg, cv2.COLOR_BGR2GRAY)\n",
    "_, thresh = cv2.threshold(gray, 210, 255, cv2.THRESH_BINARY_INV)\n",
    "\n",
    "mask = thresh.astype(np.bool)\n",
    "\n",
    "contours, hierarchy = cv2.findContours(\n",
    "    thresh,\n",
    "    cv2.RETR_EXTERNAL,\n",
    "    cv2.CHAIN_APPROX_SIMPLE\n",
    ")\n",
    "\n",
    "if len(contours) != 0:\n",
    "    c = max(contours, key = lambda x: cv2.contourArea(x, False))\n",
    "    \n",
    "drawImg = cv2.fillPoly(\n",
    "    drawImg, c, (0,0,0)\n",
    ")\n"
   ]
  },
  {
   "cell_type": "code",
   "execution_count": null,
   "metadata": {},
   "outputs": [],
   "source": [
    "drawImg = cv2.fillPoly(\n",
    "    drawImg, c, (0,0,0)\n",
    ")\n",
    "\n",
    "_, thresh = cv2.threshold(drawImg, 210, 255, cv2.THRESH_BINARY_INV)\n",
    "mask = thresh.astype(np.uint16)\n",
    "\n",
    "if True:\n",
    "    h, w = thresh.shape[:2]\n",
    "    mask = np.zeros((h+2, w+2), np.uint8)\n",
    "\n",
    "    # Floodfill from point (0, 0)\n",
    "    cv2.floodFill(thresh, mask, (0,0), 255);\n",
    "\n",
    "drawImg = cv2.cvtColor(drawImg, cv2.COLOR_BGR2GRAY)\n",
    "print(np.max(drawImg))\n",
    "print(np.min(drawImg))\n",
    "\n",
    "_, thresh = cv2.threshold(drawImg, 210, 255, cv2.THRESH_BINARY_INV)\n",
    "mask = thresh.astype(np.uint16)\n",
    "\n",
    "plt.imshow(mask, 'gray')\n",
    "print(mask)"
   ]
  },
  {
   "cell_type": "code",
   "execution_count": null,
   "metadata": {},
   "outputs": [],
   "source": []
  }
 ],
 "metadata": {
  "kernelspec": {
   "display_name": "Python 3",
   "language": "python",
   "name": "python3"
  },
  "language_info": {
   "codemirror_mode": {
    "name": "ipython",
    "version": 3
   },
   "file_extension": ".py",
   "mimetype": "text/x-python",
   "name": "python",
   "nbconvert_exporter": "python",
   "pygments_lexer": "ipython3",
   "version": "3.7.3"
  }
 },
 "nbformat": 4,
 "nbformat_minor": 4
}
